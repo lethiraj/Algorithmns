{
 "cells": [
  {
   "cell_type": "code",
   "execution_count": null,
   "metadata": {
    "collapsed": true
   },
   "outputs": [],
   "source": [
    "def longest_path(graph):\n",
    "    start = 1\n",
    "    end = len(graph)\n",
    "\n",
    "    paths = {node: [] for node in graph}\n",
    "\n",
    "    node = end - 1\n",
    "\n",
    "    while node > 0:\n",
    "        current_longest = None\n",
    "        current_longest_distance = -1\n",
    "\n",
    "        for current_node in graph[node]:\n",
    "            this_distance = len(paths[current_node])\n",
    "            if this_distance > current_longest_distance:\n",
    "                current_longest = current_node\n",
    "                current_longest_distance = this_distance\n",
    "        paths[current_longest].append(node)\n",
    "        node -= 1\n",
    "\n",
    "    return paths\n",
    "\n",
    "\n",
    "print(longest_path({1: [2, 3], 2: [3, 4, 5], 3: [5], 4: [5], 5: []}))"
   ]
  },
  {
   "cell_type": "code",
   "execution_count": null,
   "metadata": {},
   "outputs": [],
   "source": [
    "print(longest_path({1: [2, 3], 2: [3, 4, 5], 3: [5], 4: [5], 5: []}))"
   ]
  },
  {
   "cell_type": "code",
   "execution_count": null,
   "metadata": {},
   "outputs": [],
   "source": [
    ""
   ]
  },
  {
   "cell_type": "code",
   "execution_count": null,
   "metadata": {},
   "outputs": [],
   "source": [
    ""
   ]
  },
  {
   "cell_type": "code",
   "execution_count": null,
   "metadata": {},
   "outputs": [],
   "source": [
    ""
   ]
  },
  {
   "cell_type": "code",
   "execution_count": null,
   "metadata": {},
   "outputs": [],
   "source": [
    "print(1+1)"
   ]
  },
  {
   "cell_type": "code",
   "execution_count": null,
   "metadata": {},
   "outputs": [],
   "source": [
    ""
   ]
  }
 ],
 "metadata": {
  "kernelspec": {
   "display_name": "Python 2",
   "language": "python",
   "name": "python2"
  },
  "language_info": {
   "codemirror_mode": {
    "name": "ipython",
    "version": 2.0
   },
   "file_extension": ".py",
   "mimetype": "text/x-python",
   "name": "python",
   "nbconvert_exporter": "python",
   "pygments_lexer": "ipython2",
   "version": "2.7.6"
  }
 },
 "nbformat": 4,
 "nbformat_minor": 0
}